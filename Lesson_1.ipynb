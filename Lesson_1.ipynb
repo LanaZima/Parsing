{
  "nbformat": 4,
  "nbformat_minor": 0,
  "metadata": {
    "colab": {
      "name": "Untitled0.ipynb",
      "provenance": []
    },
    "kernelspec": {
      "name": "python3",
      "display_name": "Python 3"
    },
    "language_info": {
      "name": "python"
    }
  },
  "cells": [
    {
      "cell_type": "markdown",
      "source": [
        "1. Посмотреть документацию к API GitHub, разобраться как вывести список репозиториев для конкретного пользователя, сохранить JSON-вывод в файле *.json."
      ],
      "metadata": {
        "id": "-yftbqdHw7Tu"
      }
    },
    {
      "cell_type": "code",
      "execution_count": 1,
      "metadata": {
        "id": "K1sSJD_8uUJd"
      },
      "outputs": [],
      "source": [
        "import requests\n",
        "import time\n",
        "import json"
      ]
    },
    {
      "cell_type": "code",
      "source": [
        "def get_data(url: str) -> dict:\n",
        "    while True:\n",
        "        time.sleep(1)\n",
        "        response = requests.get(url)\n",
        "        if response.status_code == 200:\n",
        "            break\n",
        "    return response.json()"
      ],
      "metadata": {
        "id": "ehehl_lCupCD"
      },
      "execution_count": 3,
      "outputs": []
    },
    {
      "cell_type": "code",
      "source": [
        "username = input('Введите username: ')\n",
        "username = 'LanaTumar' if username == '' else username\n",
        "url = 'https://api.github.com/users/'+username+'/repos'"
      ],
      "metadata": {
        "colab": {
          "base_uri": "https://localhost:8080/"
        },
        "id": "P4ZQOPEFuzw6",
        "outputId": "33558db0-1eb2-4309-fa08-d89037621efe"
      },
      "execution_count": 8,
      "outputs": [
        {
          "name": "stdout",
          "output_type": "stream",
          "text": [
            "Введите username: LanaTumar\n"
          ]
        }
      ]
    },
    {
      "cell_type": "code",
      "source": [
        "response = get_data(url)\n",
        "print('Получен результат')\n",
        "print(response)"
      ],
      "metadata": {
        "colab": {
          "base_uri": "https://localhost:8080/"
        },
        "id": "Gz0VNaIUxtDB",
        "outputId": "03816d17-80c0-4c00-bedf-0c67dff68a52"
      },
      "execution_count": 10,
      "outputs": [
        {
          "output_type": "stream",
          "name": "stdout",
          "text": [
            "Получен результат\n",
            "[]\n"
          ]
        }
      ]
    },
    {
      "cell_type": "code",
      "source": [
        "repo = []\n",
        "for itm in response:\n",
        "    repo.append(itm['name'])\n",
        "print(f'Список репозиториев пользователя {username}')\n",
        "print(repo)"
      ],
      "metadata": {
        "colab": {
          "base_uri": "https://localhost:8080/"
        },
        "id": "xvC6uUiuyESk",
        "outputId": "7997613d-d3a4-4071-b24d-b6a10de01f97"
      },
      "execution_count": 11,
      "outputs": [
        {
          "output_type": "stream",
          "name": "stdout",
          "text": [
            "Список репозиториев пользователя LanaTumar\n",
            "[]\n"
          ]
        }
      ]
    },
    {
      "cell_type": "code",
      "source": [
        "with open('1_1_repo.json', 'w') as f:\n",
        "    json_repo = json.dump(repo, f)"
      ],
      "metadata": {
        "id": "UC9I5vf_ySTo"
      },
      "execution_count": 12,
      "outputs": []
    }
  ]
}